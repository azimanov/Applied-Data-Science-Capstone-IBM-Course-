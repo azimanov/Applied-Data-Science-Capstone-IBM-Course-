{
  "nbformat": 4,
  "nbformat_minor": 0,
  "metadata": {
    "kernelspec": {
      "display_name": "Python 3 (ipykernel)",
      "language": "python",
      "name": "python3"
    },
    "language_info": {
      "codemirror_mode": {
        "name": "ipython",
        "version": 3
      },
      "file_extension": ".py",
      "mimetype": "text/x-python",
      "name": "python",
      "nbconvert_exporter": "python",
      "pygments_lexer": "ipython3",
      "version": "3.8.8"
    },
    "colab": {
      "name": "Applied Data Science Capstone (SpaceX data collection via an API).ipynb",
      "provenance": []
    }
  },
  "cells": [
    {
      "cell_type": "markdown",
      "metadata": {
        "id": "VV4xzEIgg9g0"
      },
      "source": [
        "<center>\n",
        "    <img src=\"https://gitlab.com/ibm/skills-network/courses/placeholder101/-/raw/master/labs/module%201/images/IDSNlogo.png\" width=\"300\" alt=\"cognitiveclass.ai logo\"  />\n",
        "</center>\n"
      ]
    },
    {
      "cell_type": "markdown",
      "metadata": {
        "id": "sknyFTM3g9g6"
      },
      "source": [
        "# **SpaceX  Falcon 9 first stage Landing Prediction**\n"
      ]
    },
    {
      "cell_type": "markdown",
      "metadata": {
        "id": "gzeyNqG9g9g7"
      },
      "source": [
        "# Lab 1: Collecting the data\n"
      ]
    },
    {
      "cell_type": "markdown",
      "metadata": {
        "id": "s9wJS4eug9g8"
      },
      "source": [
        "Estimated time needed: **45** minutes\n"
      ]
    },
    {
      "cell_type": "markdown",
      "metadata": {
        "id": "7NF0t81pg9g9"
      },
      "source": [
        "In this capstone, we will predict if the Falcon 9 first stage will land successfully. SpaceX advertises Falcon 9 rocket launches on its website with a cost of 62 million dollars; other providers cost upward of 165 million dollars each, much of the savings is because SpaceX can reuse the first stage. Therefore if we can determine if the first stage will land, we can determine the cost of a launch. This information can be used if an alternate company wants to bid against SpaceX for a rocket launch. In this lab, you will collect and make sure the data is in the correct format from an API. The following is an example of a successful and launch.\n"
      ]
    },
    {
      "cell_type": "markdown",
      "metadata": {
        "id": "sCFNJv8vg9g-"
      },
      "source": [
        "![](https://cf-courses-data.s3.us.cloud-object-storage.appdomain.cloud/IBMDeveloperSkillsNetwork-DS0701EN-SkillsNetwork/lab_v2/images/landing\\_1.gif)\n"
      ]
    },
    {
      "cell_type": "markdown",
      "metadata": {
        "id": "bALu2n1_g9g-"
      },
      "source": [
        "Several examples of an unsuccessful landing are shown here:\n"
      ]
    },
    {
      "cell_type": "markdown",
      "metadata": {
        "id": "h-8YyVt5g9g_"
      },
      "source": [
        "![](https://cf-courses-data.s3.us.cloud-object-storage.appdomain.cloud/IBMDeveloperSkillsNetwork-DS0701EN-SkillsNetwork/lab_v2/images/crash.gif)\n"
      ]
    },
    {
      "cell_type": "markdown",
      "metadata": {
        "id": "wwPAWuUxg9hA"
      },
      "source": [
        "Most unsuccessful landings are planned. Space X performs a controlled landing in the oceans.\n"
      ]
    },
    {
      "cell_type": "markdown",
      "metadata": {
        "id": "8xKyMizCg9hB"
      },
      "source": [
        "## Objectives\n"
      ]
    },
    {
      "cell_type": "markdown",
      "metadata": {
        "id": "EdfaK9E6g9hC"
      },
      "source": [
        "In this lab, you will make a get request to the SpaceX API. You will also do some basic data wrangling and formating.\n",
        "\n",
        "*   Request to the SpaceX API\n",
        "*   Clean the requested data\n"
      ]
    },
    {
      "cell_type": "markdown",
      "metadata": {
        "id": "Lmzg8Xibg9hC"
      },
      "source": [
        "***\n"
      ]
    },
    {
      "cell_type": "markdown",
      "metadata": {
        "id": "iOBMqwd5g9hD"
      },
      "source": [
        "## Import Libraries and Define Auxiliary Functions\n"
      ]
    },
    {
      "cell_type": "markdown",
      "metadata": {
        "id": "lR48T5hYg9hD"
      },
      "source": [
        "We will import the following libraries into the lab\n"
      ]
    },
    {
      "cell_type": "code",
      "metadata": {
        "id": "ggTkTaI2g9hE"
      },
      "source": [
        "# Requests allows us to make HTTP requests which we will use to get data from an API\n",
        "import requests\n",
        "# Pandas is a software library written for the Python programming language for data manipulation and analysis.\n",
        "import pandas as pd\n",
        "# NumPy is a library for the Python programming language, adding support for large, multi-dimensional arrays and matrices, along with a large collection of high-level mathematical functions to operate on these arrays\n",
        "import numpy as np\n",
        "# Datetime is a library that allows us to represent dates\n",
        "import datetime\n",
        "\n",
        "# Setting this option will print all collumns of a dataframe\n",
        "pd.set_option('display.max_columns', None)\n",
        "# Setting this option will print all of the data in a feature\n",
        "pd.set_option('display.max_colwidth', None)"
      ],
      "execution_count": 1,
      "outputs": []
    },
    {
      "cell_type": "markdown",
      "metadata": {
        "id": "0i5CzkeBg9hF"
      },
      "source": [
        "Below we will define a series of helper functions that will help us use the API to extract information using identification numbers in the launch data.\n",
        "\n",
        "From the <code>rocket</code> column we would like to learn the booster name.\n"
      ]
    },
    {
      "cell_type": "code",
      "metadata": {
        "id": "ftQN0TQDg9hG"
      },
      "source": [
        "# Takes the dataset and uses the rocket column to call the API and append the data to the list\n",
        "def getBoosterVersion(data):\n",
        "    for x in data['rocket']:\n",
        "        response = requests.get(\"https://api.spacexdata.com/v4/rockets/\"+str(x)).json()\n",
        "        BoosterVersion.append(response['name'])"
      ],
      "execution_count": 2,
      "outputs": []
    },
    {
      "cell_type": "markdown",
      "metadata": {
        "id": "tS8S87A_g9hG"
      },
      "source": [
        "From the <code>launchpad</code> we would like to know the name of the launch site being used, the logitude, and the latitude.\n"
      ]
    },
    {
      "cell_type": "code",
      "metadata": {
        "id": "JrYOZrfug9hH"
      },
      "source": [
        "# Takes the dataset and uses the launchpad column to call the API and append the data to the list\n",
        "def getLaunchSite(data):\n",
        "    for x in data['launchpad']:\n",
        "        response = requests.get(\"https://api.spacexdata.com/v4/launchpads/\"+str(x)).json()\n",
        "        Longitude.append(response['longitude'])\n",
        "        Latitude.append(response['latitude'])\n",
        "        LaunchSite.append(response['name'])"
      ],
      "execution_count": 3,
      "outputs": []
    },
    {
      "cell_type": "markdown",
      "metadata": {
        "id": "NBcvVedog9hH"
      },
      "source": [
        "From the <code>payload</code> we would like to learn the mass of the payload and the orbit that it is going to.\n"
      ]
    },
    {
      "cell_type": "code",
      "metadata": {
        "id": "oYicTTKGg9hH"
      },
      "source": [
        "# Takes the dataset and uses the payloads column to call the API and append the data to the lists\n",
        "def getPayloadData(data):\n",
        "    for load in data['payloads']:\n",
        "        response = requests.get(\"https://api.spacexdata.com/v4/payloads/\"+load).json()\n",
        "        PayloadMass.append(response['mass_kg'])\n",
        "        Orbit.append(response['orbit'])"
      ],
      "execution_count": 4,
      "outputs": []
    },
    {
      "cell_type": "markdown",
      "metadata": {
        "id": "TAsuZUeRg9hI"
      },
      "source": [
        "From <code>cores</code> we would like to learn the outcome of the landing, the type of the landing, number of flights with that core, whether gridfins were used, wheter the core is reused, wheter legs were used, the landing pad used, the block of the core which is a number used to seperate version of cores, the number of times this specific core has been reused, and the serial of the core.\n"
      ]
    },
    {
      "cell_type": "code",
      "metadata": {
        "id": "6Qr51C2kg9hI"
      },
      "source": [
        "# Takes the dataset and uses the cores column to call the API and append the data to the lists\n",
        "def getCoreData(data):\n",
        "    for core in data['cores']:\n",
        "            if core['core'] != None:\n",
        "                response = requests.get(\"https://api.spacexdata.com/v4/cores/\"+core['core']).json()\n",
        "                Block.append(response['block'])\n",
        "                ReusedCount.append(response['reuse_count'])\n",
        "                Serial.append(response['serial'])\n",
        "            else:\n",
        "                Block.append(None)\n",
        "                ReusedCount.append(None)\n",
        "                Serial.append(None)\n",
        "            Outcome.append(str(core['landing_success'])+' '+str(core['landing_type']))\n",
        "            Flights.append(core['flight'])\n",
        "            GridFins.append(core['gridfins'])\n",
        "            Reused.append(core['reused'])\n",
        "            Legs.append(core['legs'])\n",
        "            LandingPad.append(core['landpad'])"
      ],
      "execution_count": 5,
      "outputs": []
    },
    {
      "cell_type": "markdown",
      "metadata": {
        "id": "WtPyKbEDg9hJ"
      },
      "source": [
        "Now let's start requesting rocket launch data from SpaceX API with the following URL:\n"
      ]
    },
    {
      "cell_type": "code",
      "metadata": {
        "id": "QIzKqSN-g9hJ"
      },
      "source": [
        "spacex_url=\"https://api.spacexdata.com/v4/launches/past\""
      ],
      "execution_count": 6,
      "outputs": []
    },
    {
      "cell_type": "code",
      "metadata": {
        "id": "x31Oj7dYg9hJ"
      },
      "source": [
        "response = requests.get(spacex_url)"
      ],
      "execution_count": 7,
      "outputs": []
    },
    {
      "cell_type": "markdown",
      "metadata": {
        "id": "ieD7dY_9g9hK"
      },
      "source": [
        "Check the content of the response\n"
      ]
    },
    {
      "cell_type": "code",
      "metadata": {
        "id": "W9yhV7rPg9hK"
      },
      "source": [
        "# print(response.content)"
      ],
      "execution_count": 31,
      "outputs": []
    },
    {
      "cell_type": "markdown",
      "metadata": {
        "id": "2BXUYDr3g9hL"
      },
      "source": [
        "You should see the response contains massive information about SpaceX launches. Next, let's try to discover some more relevant information for this project.\n"
      ]
    },
    {
      "cell_type": "markdown",
      "metadata": {
        "id": "27w_Ch5Xg9hL"
      },
      "source": [
        "### Task 1: Request and parse the SpaceX launch data using the GET request\n"
      ]
    },
    {
      "cell_type": "markdown",
      "metadata": {
        "id": "8794rlegg9hL"
      },
      "source": [
        "To make the requested JSON results more consistent, we will use the following static response object for this project:\n"
      ]
    },
    {
      "cell_type": "code",
      "metadata": {
        "id": "k5xOZwBxg9hM"
      },
      "source": [
        "static_json_url='https://cf-courses-data.s3.us.cloud-object-storage.appdomain.cloud/IBM-DS0321EN-SkillsNetwork/datasets/API_call_spacex_api.json'"
      ],
      "execution_count": 9,
      "outputs": []
    },
    {
      "cell_type": "markdown",
      "metadata": {
        "id": "CJ_NT6wBg9hM"
      },
      "source": [
        "We should see that the request was successfull with the 200 status response code\n"
      ]
    },
    {
      "cell_type": "code",
      "metadata": {
        "scrolled": true,
        "colab": {
          "base_uri": "https://localhost:8080/"
        },
        "id": "zGYrgRhXg9hM",
        "outputId": "3677a074-4d83-4231-e401-5b83f02b0a50"
      },
      "source": [
        "response.status_code"
      ],
      "execution_count": 10,
      "outputs": [
        {
          "output_type": "execute_result",
          "data": {
            "text/plain": [
              "200"
            ]
          },
          "metadata": {},
          "execution_count": 10
        }
      ]
    },
    {
      "cell_type": "code",
      "metadata": {
        "id": "2i2eZYC5g9hM"
      },
      "source": [
        "response2 = requests.get(static_json_url)"
      ],
      "execution_count": 11,
      "outputs": []
    },
    {
      "cell_type": "markdown",
      "metadata": {
        "id": "YJyYrRpig9hN"
      },
      "source": [
        "Now we decode the response content as a Json using <code>.json()</code> and turn it into a Pandas dataframe using <code>.json_normalize()</code>\n"
      ]
    },
    {
      "cell_type": "code",
      "metadata": {
        "id": "Ucvxl2BWg9hN"
      },
      "source": [
        "# Use json_normalize meethod to convert the json result into a dataframe\n",
        "data = pd.json_normalize(response2.json())"
      ],
      "execution_count": 12,
      "outputs": []
    },
    {
      "cell_type": "markdown",
      "metadata": {
        "id": "hzj9kLt0g9hN"
      },
      "source": [
        "Using the dataframe <code>data</code> print the first 5 rows\n"
      ]
    },
    {
      "cell_type": "code",
      "metadata": {
        "scrolled": true,
        "colab": {
          "base_uri": "https://localhost:8080/",
          "height": 1000
        },
        "id": "xNOMIF1Wg9hN",
        "outputId": "e498a5ef-6bcc-4ee7-887a-5688bb91dee6"
      },
      "source": [
        "# Get the head of the dataframe\n",
        "data.head()"
      ],
      "execution_count": 13,
      "outputs": [
        {
          "output_type": "execute_result",
          "data": {
            "text/html": [
              "<div>\n",
              "<style scoped>\n",
              "    .dataframe tbody tr th:only-of-type {\n",
              "        vertical-align: middle;\n",
              "    }\n",
              "\n",
              "    .dataframe tbody tr th {\n",
              "        vertical-align: top;\n",
              "    }\n",
              "\n",
              "    .dataframe thead th {\n",
              "        text-align: right;\n",
              "    }\n",
              "</style>\n",
              "<table border=\"1\" class=\"dataframe\">\n",
              "  <thead>\n",
              "    <tr style=\"text-align: right;\">\n",
              "      <th></th>\n",
              "      <th>static_fire_date_utc</th>\n",
              "      <th>static_fire_date_unix</th>\n",
              "      <th>tbd</th>\n",
              "      <th>net</th>\n",
              "      <th>window</th>\n",
              "      <th>rocket</th>\n",
              "      <th>success</th>\n",
              "      <th>details</th>\n",
              "      <th>crew</th>\n",
              "      <th>ships</th>\n",
              "      <th>capsules</th>\n",
              "      <th>payloads</th>\n",
              "      <th>launchpad</th>\n",
              "      <th>auto_update</th>\n",
              "      <th>failures</th>\n",
              "      <th>flight_number</th>\n",
              "      <th>name</th>\n",
              "      <th>date_utc</th>\n",
              "      <th>date_unix</th>\n",
              "      <th>date_local</th>\n",
              "      <th>date_precision</th>\n",
              "      <th>upcoming</th>\n",
              "      <th>cores</th>\n",
              "      <th>id</th>\n",
              "      <th>fairings.reused</th>\n",
              "      <th>fairings.recovery_attempt</th>\n",
              "      <th>fairings.recovered</th>\n",
              "      <th>fairings.ships</th>\n",
              "      <th>links.patch.small</th>\n",
              "      <th>links.patch.large</th>\n",
              "      <th>links.reddit.campaign</th>\n",
              "      <th>links.reddit.launch</th>\n",
              "      <th>links.reddit.media</th>\n",
              "      <th>links.reddit.recovery</th>\n",
              "      <th>links.flickr.small</th>\n",
              "      <th>links.flickr.original</th>\n",
              "      <th>links.presskit</th>\n",
              "      <th>links.webcast</th>\n",
              "      <th>links.youtube_id</th>\n",
              "      <th>links.article</th>\n",
              "      <th>links.wikipedia</th>\n",
              "      <th>fairings</th>\n",
              "    </tr>\n",
              "  </thead>\n",
              "  <tbody>\n",
              "    <tr>\n",
              "      <th>0</th>\n",
              "      <td>2006-03-17T00:00:00.000Z</td>\n",
              "      <td>1.142554e+09</td>\n",
              "      <td>False</td>\n",
              "      <td>False</td>\n",
              "      <td>0.0</td>\n",
              "      <td>5e9d0d95eda69955f709d1eb</td>\n",
              "      <td>False</td>\n",
              "      <td>Engine failure at 33 seconds and loss of vehicle</td>\n",
              "      <td>[]</td>\n",
              "      <td>[]</td>\n",
              "      <td>[]</td>\n",
              "      <td>[5eb0e4b5b6c3bb0006eeb1e1]</td>\n",
              "      <td>5e9e4502f5090995de566f86</td>\n",
              "      <td>True</td>\n",
              "      <td>[{'time': 33, 'altitude': None, 'reason': 'merlin engine failure'}]</td>\n",
              "      <td>1</td>\n",
              "      <td>FalconSat</td>\n",
              "      <td>2006-03-24T22:30:00.000Z</td>\n",
              "      <td>1143239400</td>\n",
              "      <td>2006-03-25T10:30:00+12:00</td>\n",
              "      <td>hour</td>\n",
              "      <td>False</td>\n",
              "      <td>[{'core': '5e9e289df35918033d3b2623', 'flight': 1, 'gridfins': False, 'legs': False, 'reused': False, 'landing_attempt': False, 'landing_success': None, 'landing_type': None, 'landpad': None}]</td>\n",
              "      <td>5eb87cd9ffd86e000604b32a</td>\n",
              "      <td>False</td>\n",
              "      <td>False</td>\n",
              "      <td>False</td>\n",
              "      <td>[]</td>\n",
              "      <td>https://images2.imgbox.com/3c/0e/T8iJcSN3_o.png</td>\n",
              "      <td>https://images2.imgbox.com/40/e3/GypSkayF_o.png</td>\n",
              "      <td>None</td>\n",
              "      <td>None</td>\n",
              "      <td>None</td>\n",
              "      <td>None</td>\n",
              "      <td>[]</td>\n",
              "      <td>[]</td>\n",
              "      <td>None</td>\n",
              "      <td>https://www.youtube.com/watch?v=0a_00nJ_Y88</td>\n",
              "      <td>0a_00nJ_Y88</td>\n",
              "      <td>https://www.space.com/2196-spacex-inaugural-falcon-1-rocket-lost-launch.html</td>\n",
              "      <td>https://en.wikipedia.org/wiki/DemoSat</td>\n",
              "      <td>NaN</td>\n",
              "    </tr>\n",
              "    <tr>\n",
              "      <th>1</th>\n",
              "      <td>None</td>\n",
              "      <td>NaN</td>\n",
              "      <td>False</td>\n",
              "      <td>False</td>\n",
              "      <td>0.0</td>\n",
              "      <td>5e9d0d95eda69955f709d1eb</td>\n",
              "      <td>False</td>\n",
              "      <td>Successful first stage burn and transition to second stage, maximum altitude 289 km, Premature engine shutdown at T+7 min 30 s, Failed to reach orbit, Failed to recover first stage</td>\n",
              "      <td>[]</td>\n",
              "      <td>[]</td>\n",
              "      <td>[]</td>\n",
              "      <td>[5eb0e4b6b6c3bb0006eeb1e2]</td>\n",
              "      <td>5e9e4502f5090995de566f86</td>\n",
              "      <td>True</td>\n",
              "      <td>[{'time': 301, 'altitude': 289, 'reason': 'harmonic oscillation leading to premature engine shutdown'}]</td>\n",
              "      <td>2</td>\n",
              "      <td>DemoSat</td>\n",
              "      <td>2007-03-21T01:10:00.000Z</td>\n",
              "      <td>1174439400</td>\n",
              "      <td>2007-03-21T13:10:00+12:00</td>\n",
              "      <td>hour</td>\n",
              "      <td>False</td>\n",
              "      <td>[{'core': '5e9e289ef35918416a3b2624', 'flight': 1, 'gridfins': False, 'legs': False, 'reused': False, 'landing_attempt': False, 'landing_success': None, 'landing_type': None, 'landpad': None}]</td>\n",
              "      <td>5eb87cdaffd86e000604b32b</td>\n",
              "      <td>False</td>\n",
              "      <td>False</td>\n",
              "      <td>False</td>\n",
              "      <td>[]</td>\n",
              "      <td>https://images2.imgbox.com/4f/e3/I0lkuJ2e_o.png</td>\n",
              "      <td>https://images2.imgbox.com/be/e7/iNqsqVYM_o.png</td>\n",
              "      <td>None</td>\n",
              "      <td>None</td>\n",
              "      <td>None</td>\n",
              "      <td>None</td>\n",
              "      <td>[]</td>\n",
              "      <td>[]</td>\n",
              "      <td>None</td>\n",
              "      <td>https://www.youtube.com/watch?v=Lk4zQ2wP-Nc</td>\n",
              "      <td>Lk4zQ2wP-Nc</td>\n",
              "      <td>https://www.space.com/3590-spacex-falcon-1-rocket-fails-reach-orbit.html</td>\n",
              "      <td>https://en.wikipedia.org/wiki/DemoSat</td>\n",
              "      <td>NaN</td>\n",
              "    </tr>\n",
              "    <tr>\n",
              "      <th>2</th>\n",
              "      <td>None</td>\n",
              "      <td>NaN</td>\n",
              "      <td>False</td>\n",
              "      <td>False</td>\n",
              "      <td>0.0</td>\n",
              "      <td>5e9d0d95eda69955f709d1eb</td>\n",
              "      <td>False</td>\n",
              "      <td>Residual stage 1 thrust led to collision between stage 1 and stage 2</td>\n",
              "      <td>[]</td>\n",
              "      <td>[]</td>\n",
              "      <td>[]</td>\n",
              "      <td>[5eb0e4b6b6c3bb0006eeb1e3, 5eb0e4b6b6c3bb0006eeb1e4]</td>\n",
              "      <td>5e9e4502f5090995de566f86</td>\n",
              "      <td>True</td>\n",
              "      <td>[{'time': 140, 'altitude': 35, 'reason': 'residual stage-1 thrust led to collision between stage 1 and stage 2'}]</td>\n",
              "      <td>3</td>\n",
              "      <td>Trailblazer</td>\n",
              "      <td>2008-08-03T03:34:00.000Z</td>\n",
              "      <td>1217734440</td>\n",
              "      <td>2008-08-03T15:34:00+12:00</td>\n",
              "      <td>hour</td>\n",
              "      <td>False</td>\n",
              "      <td>[{'core': '5e9e289ef3591814873b2625', 'flight': 1, 'gridfins': False, 'legs': False, 'reused': False, 'landing_attempt': False, 'landing_success': None, 'landing_type': None, 'landpad': None}]</td>\n",
              "      <td>5eb87cdbffd86e000604b32c</td>\n",
              "      <td>False</td>\n",
              "      <td>False</td>\n",
              "      <td>False</td>\n",
              "      <td>[]</td>\n",
              "      <td>https://images2.imgbox.com/3d/86/cnu0pan8_o.png</td>\n",
              "      <td>https://images2.imgbox.com/4b/bd/d8UxLh4q_o.png</td>\n",
              "      <td>None</td>\n",
              "      <td>None</td>\n",
              "      <td>None</td>\n",
              "      <td>None</td>\n",
              "      <td>[]</td>\n",
              "      <td>[]</td>\n",
              "      <td>None</td>\n",
              "      <td>https://www.youtube.com/watch?v=v0w9p3U8860</td>\n",
              "      <td>v0w9p3U8860</td>\n",
              "      <td>http://www.spacex.com/news/2013/02/11/falcon-1-flight-3-mission-summary</td>\n",
              "      <td>https://en.wikipedia.org/wiki/Trailblazer_(satellite)</td>\n",
              "      <td>NaN</td>\n",
              "    </tr>\n",
              "    <tr>\n",
              "      <th>3</th>\n",
              "      <td>2008-09-20T00:00:00.000Z</td>\n",
              "      <td>1.221869e+09</td>\n",
              "      <td>False</td>\n",
              "      <td>False</td>\n",
              "      <td>0.0</td>\n",
              "      <td>5e9d0d95eda69955f709d1eb</td>\n",
              "      <td>True</td>\n",
              "      <td>Ratsat was carried to orbit on the first successful orbital launch of any privately funded and developed, liquid-propelled carrier rocket, the SpaceX Falcon 1</td>\n",
              "      <td>[]</td>\n",
              "      <td>[]</td>\n",
              "      <td>[]</td>\n",
              "      <td>[5eb0e4b7b6c3bb0006eeb1e5]</td>\n",
              "      <td>5e9e4502f5090995de566f86</td>\n",
              "      <td>True</td>\n",
              "      <td>[]</td>\n",
              "      <td>4</td>\n",
              "      <td>RatSat</td>\n",
              "      <td>2008-09-28T23:15:00.000Z</td>\n",
              "      <td>1222643700</td>\n",
              "      <td>2008-09-28T11:15:00+12:00</td>\n",
              "      <td>hour</td>\n",
              "      <td>False</td>\n",
              "      <td>[{'core': '5e9e289ef3591855dc3b2626', 'flight': 1, 'gridfins': False, 'legs': False, 'reused': False, 'landing_attempt': False, 'landing_success': None, 'landing_type': None, 'landpad': None}]</td>\n",
              "      <td>5eb87cdbffd86e000604b32d</td>\n",
              "      <td>False</td>\n",
              "      <td>False</td>\n",
              "      <td>False</td>\n",
              "      <td>[]</td>\n",
              "      <td>https://images2.imgbox.com/e9/c9/T8CfiSYb_o.png</td>\n",
              "      <td>https://images2.imgbox.com/e0/a7/FNjvKlXW_o.png</td>\n",
              "      <td>None</td>\n",
              "      <td>None</td>\n",
              "      <td>None</td>\n",
              "      <td>None</td>\n",
              "      <td>[]</td>\n",
              "      <td>[]</td>\n",
              "      <td>None</td>\n",
              "      <td>https://www.youtube.com/watch?v=dLQ2tZEH6G0</td>\n",
              "      <td>dLQ2tZEH6G0</td>\n",
              "      <td>https://en.wikipedia.org/wiki/Ratsat</td>\n",
              "      <td>https://en.wikipedia.org/wiki/Ratsat</td>\n",
              "      <td>NaN</td>\n",
              "    </tr>\n",
              "    <tr>\n",
              "      <th>4</th>\n",
              "      <td>None</td>\n",
              "      <td>NaN</td>\n",
              "      <td>False</td>\n",
              "      <td>False</td>\n",
              "      <td>0.0</td>\n",
              "      <td>5e9d0d95eda69955f709d1eb</td>\n",
              "      <td>True</td>\n",
              "      <td>None</td>\n",
              "      <td>[]</td>\n",
              "      <td>[]</td>\n",
              "      <td>[]</td>\n",
              "      <td>[5eb0e4b7b6c3bb0006eeb1e6]</td>\n",
              "      <td>5e9e4502f5090995de566f86</td>\n",
              "      <td>True</td>\n",
              "      <td>[]</td>\n",
              "      <td>5</td>\n",
              "      <td>RazakSat</td>\n",
              "      <td>2009-07-13T03:35:00.000Z</td>\n",
              "      <td>1247456100</td>\n",
              "      <td>2009-07-13T15:35:00+12:00</td>\n",
              "      <td>hour</td>\n",
              "      <td>False</td>\n",
              "      <td>[{'core': '5e9e289ef359184f103b2627', 'flight': 1, 'gridfins': False, 'legs': False, 'reused': False, 'landing_attempt': False, 'landing_success': None, 'landing_type': None, 'landpad': None}]</td>\n",
              "      <td>5eb87cdcffd86e000604b32e</td>\n",
              "      <td>False</td>\n",
              "      <td>False</td>\n",
              "      <td>False</td>\n",
              "      <td>[]</td>\n",
              "      <td>https://images2.imgbox.com/a7/ba/NBZSw3Ho_o.png</td>\n",
              "      <td>https://images2.imgbox.com/8d/fc/0qdZMWWx_o.png</td>\n",
              "      <td>None</td>\n",
              "      <td>None</td>\n",
              "      <td>None</td>\n",
              "      <td>None</td>\n",
              "      <td>[]</td>\n",
              "      <td>[]</td>\n",
              "      <td>http://www.spacex.com/press/2012/12/19/spacexs-falcon-1-successfully-delivers-razaksat-satellite-orbit</td>\n",
              "      <td>https://www.youtube.com/watch?v=yTaIDooc8Og</td>\n",
              "      <td>yTaIDooc8Og</td>\n",
              "      <td>http://www.spacex.com/news/2013/02/12/falcon-1-flight-5</td>\n",
              "      <td>https://en.wikipedia.org/wiki/RazakSAT</td>\n",
              "      <td>NaN</td>\n",
              "    </tr>\n",
              "  </tbody>\n",
              "</table>\n",
              "</div>"
            ],
            "text/plain": [
              "       static_fire_date_utc  static_fire_date_unix    tbd    net  window  \\\n",
              "0  2006-03-17T00:00:00.000Z           1.142554e+09  False  False     0.0   \n",
              "1                      None                    NaN  False  False     0.0   \n",
              "2                      None                    NaN  False  False     0.0   \n",
              "3  2008-09-20T00:00:00.000Z           1.221869e+09  False  False     0.0   \n",
              "4                      None                    NaN  False  False     0.0   \n",
              "\n",
              "                     rocket  success  \\\n",
              "0  5e9d0d95eda69955f709d1eb    False   \n",
              "1  5e9d0d95eda69955f709d1eb    False   \n",
              "2  5e9d0d95eda69955f709d1eb    False   \n",
              "3  5e9d0d95eda69955f709d1eb     True   \n",
              "4  5e9d0d95eda69955f709d1eb     True   \n",
              "\n",
              "                                                                                                                                                                                details  \\\n",
              "0                                                                                                                                      Engine failure at 33 seconds and loss of vehicle   \n",
              "1  Successful first stage burn and transition to second stage, maximum altitude 289 km, Premature engine shutdown at T+7 min 30 s, Failed to reach orbit, Failed to recover first stage   \n",
              "2                                                                                                                  Residual stage 1 thrust led to collision between stage 1 and stage 2   \n",
              "3                        Ratsat was carried to orbit on the first successful orbital launch of any privately funded and developed, liquid-propelled carrier rocket, the SpaceX Falcon 1   \n",
              "4                                                                                                                                                                                  None   \n",
              "\n",
              "  crew ships capsules                                              payloads  \\\n",
              "0   []    []       []                            [5eb0e4b5b6c3bb0006eeb1e1]   \n",
              "1   []    []       []                            [5eb0e4b6b6c3bb0006eeb1e2]   \n",
              "2   []    []       []  [5eb0e4b6b6c3bb0006eeb1e3, 5eb0e4b6b6c3bb0006eeb1e4]   \n",
              "3   []    []       []                            [5eb0e4b7b6c3bb0006eeb1e5]   \n",
              "4   []    []       []                            [5eb0e4b7b6c3bb0006eeb1e6]   \n",
              "\n",
              "                  launchpad  auto_update  \\\n",
              "0  5e9e4502f5090995de566f86         True   \n",
              "1  5e9e4502f5090995de566f86         True   \n",
              "2  5e9e4502f5090995de566f86         True   \n",
              "3  5e9e4502f5090995de566f86         True   \n",
              "4  5e9e4502f5090995de566f86         True   \n",
              "\n",
              "                                                                                                            failures  \\\n",
              "0                                                [{'time': 33, 'altitude': None, 'reason': 'merlin engine failure'}]   \n",
              "1            [{'time': 301, 'altitude': 289, 'reason': 'harmonic oscillation leading to premature engine shutdown'}]   \n",
              "2  [{'time': 140, 'altitude': 35, 'reason': 'residual stage-1 thrust led to collision between stage 1 and stage 2'}]   \n",
              "3                                                                                                                 []   \n",
              "4                                                                                                                 []   \n",
              "\n",
              "   flight_number         name                  date_utc   date_unix  \\\n",
              "0              1    FalconSat  2006-03-24T22:30:00.000Z  1143239400   \n",
              "1              2      DemoSat  2007-03-21T01:10:00.000Z  1174439400   \n",
              "2              3  Trailblazer  2008-08-03T03:34:00.000Z  1217734440   \n",
              "3              4       RatSat  2008-09-28T23:15:00.000Z  1222643700   \n",
              "4              5     RazakSat  2009-07-13T03:35:00.000Z  1247456100   \n",
              "\n",
              "                  date_local date_precision  upcoming  \\\n",
              "0  2006-03-25T10:30:00+12:00           hour     False   \n",
              "1  2007-03-21T13:10:00+12:00           hour     False   \n",
              "2  2008-08-03T15:34:00+12:00           hour     False   \n",
              "3  2008-09-28T11:15:00+12:00           hour     False   \n",
              "4  2009-07-13T15:35:00+12:00           hour     False   \n",
              "\n",
              "                                                                                                                                                                                              cores  \\\n",
              "0  [{'core': '5e9e289df35918033d3b2623', 'flight': 1, 'gridfins': False, 'legs': False, 'reused': False, 'landing_attempt': False, 'landing_success': None, 'landing_type': None, 'landpad': None}]   \n",
              "1  [{'core': '5e9e289ef35918416a3b2624', 'flight': 1, 'gridfins': False, 'legs': False, 'reused': False, 'landing_attempt': False, 'landing_success': None, 'landing_type': None, 'landpad': None}]   \n",
              "2  [{'core': '5e9e289ef3591814873b2625', 'flight': 1, 'gridfins': False, 'legs': False, 'reused': False, 'landing_attempt': False, 'landing_success': None, 'landing_type': None, 'landpad': None}]   \n",
              "3  [{'core': '5e9e289ef3591855dc3b2626', 'flight': 1, 'gridfins': False, 'legs': False, 'reused': False, 'landing_attempt': False, 'landing_success': None, 'landing_type': None, 'landpad': None}]   \n",
              "4  [{'core': '5e9e289ef359184f103b2627', 'flight': 1, 'gridfins': False, 'legs': False, 'reused': False, 'landing_attempt': False, 'landing_success': None, 'landing_type': None, 'landpad': None}]   \n",
              "\n",
              "                         id fairings.reused fairings.recovery_attempt  \\\n",
              "0  5eb87cd9ffd86e000604b32a           False                     False   \n",
              "1  5eb87cdaffd86e000604b32b           False                     False   \n",
              "2  5eb87cdbffd86e000604b32c           False                     False   \n",
              "3  5eb87cdbffd86e000604b32d           False                     False   \n",
              "4  5eb87cdcffd86e000604b32e           False                     False   \n",
              "\n",
              "  fairings.recovered fairings.ships  \\\n",
              "0              False             []   \n",
              "1              False             []   \n",
              "2              False             []   \n",
              "3              False             []   \n",
              "4              False             []   \n",
              "\n",
              "                                 links.patch.small  \\\n",
              "0  https://images2.imgbox.com/3c/0e/T8iJcSN3_o.png   \n",
              "1  https://images2.imgbox.com/4f/e3/I0lkuJ2e_o.png   \n",
              "2  https://images2.imgbox.com/3d/86/cnu0pan8_o.png   \n",
              "3  https://images2.imgbox.com/e9/c9/T8CfiSYb_o.png   \n",
              "4  https://images2.imgbox.com/a7/ba/NBZSw3Ho_o.png   \n",
              "\n",
              "                                 links.patch.large links.reddit.campaign  \\\n",
              "0  https://images2.imgbox.com/40/e3/GypSkayF_o.png                  None   \n",
              "1  https://images2.imgbox.com/be/e7/iNqsqVYM_o.png                  None   \n",
              "2  https://images2.imgbox.com/4b/bd/d8UxLh4q_o.png                  None   \n",
              "3  https://images2.imgbox.com/e0/a7/FNjvKlXW_o.png                  None   \n",
              "4  https://images2.imgbox.com/8d/fc/0qdZMWWx_o.png                  None   \n",
              "\n",
              "  links.reddit.launch links.reddit.media links.reddit.recovery  \\\n",
              "0                None               None                  None   \n",
              "1                None               None                  None   \n",
              "2                None               None                  None   \n",
              "3                None               None                  None   \n",
              "4                None               None                  None   \n",
              "\n",
              "  links.flickr.small links.flickr.original  \\\n",
              "0                 []                    []   \n",
              "1                 []                    []   \n",
              "2                 []                    []   \n",
              "3                 []                    []   \n",
              "4                 []                    []   \n",
              "\n",
              "                                                                                           links.presskit  \\\n",
              "0                                                                                                    None   \n",
              "1                                                                                                    None   \n",
              "2                                                                                                    None   \n",
              "3                                                                                                    None   \n",
              "4  http://www.spacex.com/press/2012/12/19/spacexs-falcon-1-successfully-delivers-razaksat-satellite-orbit   \n",
              "\n",
              "                                 links.webcast links.youtube_id  \\\n",
              "0  https://www.youtube.com/watch?v=0a_00nJ_Y88      0a_00nJ_Y88   \n",
              "1  https://www.youtube.com/watch?v=Lk4zQ2wP-Nc      Lk4zQ2wP-Nc   \n",
              "2  https://www.youtube.com/watch?v=v0w9p3U8860      v0w9p3U8860   \n",
              "3  https://www.youtube.com/watch?v=dLQ2tZEH6G0      dLQ2tZEH6G0   \n",
              "4  https://www.youtube.com/watch?v=yTaIDooc8Og      yTaIDooc8Og   \n",
              "\n",
              "                                                                  links.article  \\\n",
              "0  https://www.space.com/2196-spacex-inaugural-falcon-1-rocket-lost-launch.html   \n",
              "1      https://www.space.com/3590-spacex-falcon-1-rocket-fails-reach-orbit.html   \n",
              "2       http://www.spacex.com/news/2013/02/11/falcon-1-flight-3-mission-summary   \n",
              "3                                          https://en.wikipedia.org/wiki/Ratsat   \n",
              "4                       http://www.spacex.com/news/2013/02/12/falcon-1-flight-5   \n",
              "\n",
              "                                         links.wikipedia  fairings  \n",
              "0                  https://en.wikipedia.org/wiki/DemoSat       NaN  \n",
              "1                  https://en.wikipedia.org/wiki/DemoSat       NaN  \n",
              "2  https://en.wikipedia.org/wiki/Trailblazer_(satellite)       NaN  \n",
              "3                   https://en.wikipedia.org/wiki/Ratsat       NaN  \n",
              "4                 https://en.wikipedia.org/wiki/RazakSAT       NaN  "
            ]
          },
          "metadata": {},
          "execution_count": 13
        }
      ]
    },
    {
      "cell_type": "markdown",
      "metadata": {
        "id": "n-zFqjwog9hO"
      },
      "source": [
        "You will notice that a lot of the data are IDs. For example the rocket column has no information about the rocket just an identification number.\n",
        "\n",
        "We will now use the API again to get information about the launches using the IDs given for each launch. Specifically we will be using columns <code>rocket</code>, <code>payloads</code>, <code>launchpad</code>, and <code>cores</code>.\n"
      ]
    },
    {
      "cell_type": "code",
      "metadata": {
        "id": "Xm9Xouj1g9hO"
      },
      "source": [
        "# Lets take a subset of our dataframe keeping only the features we want and the flight number, and date_utc.\n",
        "data = data[['rocket', 'payloads', 'launchpad', 'cores', 'flight_number', 'date_utc']]\n",
        "\n",
        "# We will remove rows with multiple cores because those are falcon rockets with 2 extra rocket boosters and rows that have multiple payloads in a single rocket.\n",
        "data = data[data['cores'].map(len)==1]\n",
        "data = data[data['payloads'].map(len)==1]\n",
        "\n",
        "# Since payloads and cores are lists of size 1 we will also extract the single value in the list and replace the feature.\n",
        "data['cores'] = data['cores'].map(lambda x : x[0])\n",
        "data['payloads'] = data['payloads'].map(lambda x : x[0])\n",
        "\n",
        "# We also want to convert the date_utc to a datetime datatype and then extracting the date leaving the time\n",
        "data['date'] = pd.to_datetime(data['date_utc']).dt.date\n",
        "\n",
        "# Using the date we will restrict the dates of the launches\n",
        "data = data[data['date'] <= datetime.date(2020, 11, 13)]"
      ],
      "execution_count": 14,
      "outputs": []
    },
    {
      "cell_type": "markdown",
      "metadata": {
        "id": "56ciS-78g9hO"
      },
      "source": [
        "*   From the <code>rocket</code> we would like to learn the booster name\n",
        "\n",
        "*   From the <code>payload</code> we would like to learn the mass of the payload and the orbit that it is going to\n",
        "\n",
        "*   From the <code>launchpad</code> we would like to know the name of the launch site being used, the longitude, and the latitude.\n",
        "\n",
        "*   From <code>cores</code> we would like to learn the outcome of the landing, the type of the landing, number of flights with that core, whether gridfins were used, whether the core is reused, whether legs were used, the landing pad used, the block of the core which is a number used to seperate version of cores, the number of times this specific core has been reused, and the serial of the core.\n",
        "\n",
        "The data from these requests will be stored in lists and will be used to create a new dataframe.\n"
      ]
    },
    {
      "cell_type": "code",
      "metadata": {
        "id": "MejNa7HPg9hO"
      },
      "source": [
        "#Global variables \n",
        "BoosterVersion = []\n",
        "PayloadMass = []\n",
        "Orbit = []\n",
        "LaunchSite = []\n",
        "Outcome = []\n",
        "Flights = []\n",
        "GridFins = []\n",
        "Reused = []\n",
        "Legs = []\n",
        "LandingPad = []\n",
        "Block = []\n",
        "ReusedCount = []\n",
        "Serial = []\n",
        "Longitude = []\n",
        "Latitude = []"
      ],
      "execution_count": 15,
      "outputs": []
    },
    {
      "cell_type": "markdown",
      "metadata": {
        "id": "GhojX3gQg9hP"
      },
      "source": [
        "These functions will apply the outputs globally to the above variables. Let's take a looks at <code>BoosterVersion</code> variable. Before we apply  <code>getBoosterVersion</code> the list is empty:\n"
      ]
    },
    {
      "cell_type": "code",
      "metadata": {
        "colab": {
          "base_uri": "https://localhost:8080/"
        },
        "id": "CJm7oEnCg9hP",
        "outputId": "e3c4f221-49ef-4856-f60c-a5a19d0ece2c"
      },
      "source": [
        "BoosterVersion"
      ],
      "execution_count": 16,
      "outputs": [
        {
          "output_type": "execute_result",
          "data": {
            "text/plain": [
              "[]"
            ]
          },
          "metadata": {},
          "execution_count": 16
        }
      ]
    },
    {
      "cell_type": "markdown",
      "metadata": {
        "id": "wWmmxbk7g9hQ"
      },
      "source": [
        "Now, let's apply <code> getBoosterVersion</code> function method to get the booster version\n"
      ]
    },
    {
      "cell_type": "code",
      "metadata": {
        "id": "rGSaeIXRg9hQ"
      },
      "source": [
        "# Call getBoosterVersion\n",
        "getBoosterVersion(data)"
      ],
      "execution_count": 17,
      "outputs": []
    },
    {
      "cell_type": "markdown",
      "metadata": {
        "id": "REYuImRKg9hQ"
      },
      "source": [
        "the list has now been update\n"
      ]
    },
    {
      "cell_type": "code",
      "metadata": {
        "colab": {
          "base_uri": "https://localhost:8080/"
        },
        "id": "EmSXzXyTg9hR",
        "outputId": "03037d17-f306-4ae0-9dd5-0a9fbedf210a"
      },
      "source": [
        "BoosterVersion[0:5]"
      ],
      "execution_count": 18,
      "outputs": [
        {
          "output_type": "execute_result",
          "data": {
            "text/plain": [
              "['Falcon 1', 'Falcon 1', 'Falcon 1', 'Falcon 1', 'Falcon 9']"
            ]
          },
          "metadata": {},
          "execution_count": 18
        }
      ]
    },
    {
      "cell_type": "markdown",
      "metadata": {
        "id": "8XDUOD8Xg9hR"
      },
      "source": [
        "we can apply the rest of the  functions here:\n"
      ]
    },
    {
      "cell_type": "code",
      "metadata": {
        "id": "cYiZ7Qu7g9hR"
      },
      "source": [
        "# Call getLaunchSite\n",
        "getLaunchSite(data)"
      ],
      "execution_count": 19,
      "outputs": []
    },
    {
      "cell_type": "code",
      "metadata": {
        "id": "IylvTSwwg9hR"
      },
      "source": [
        "# Call getPayloadData\n",
        "getPayloadData(data)"
      ],
      "execution_count": 20,
      "outputs": []
    },
    {
      "cell_type": "code",
      "metadata": {
        "id": "wrnifakLg9hS"
      },
      "source": [
        "# Call getCoreData\n",
        "getCoreData(data)"
      ],
      "execution_count": 21,
      "outputs": []
    },
    {
      "cell_type": "markdown",
      "metadata": {
        "id": "RJBb9Mjlg9hS"
      },
      "source": [
        "Finally lets construct our dataset using the data we have obtained. We we combine the columns into a dictionary.\n"
      ]
    },
    {
      "cell_type": "code",
      "metadata": {
        "id": "HklmRRa1g9hS"
      },
      "source": [
        "launch_dict = {'FlightNumber': list(data['flight_number']),\n",
        "'Date': list(data['date']),\n",
        "'BoosterVersion':BoosterVersion,\n",
        "'PayloadMass':PayloadMass,\n",
        "'Orbit':Orbit,\n",
        "'LaunchSite':LaunchSite,\n",
        "'Outcome':Outcome,\n",
        "'Flights':Flights,\n",
        "'GridFins':GridFins,\n",
        "'Reused':Reused,\n",
        "'Legs':Legs,\n",
        "'LandingPad':LandingPad,\n",
        "'Block':Block,\n",
        "'ReusedCount':ReusedCount,\n",
        "'Serial':Serial,\n",
        "'Longitude': Longitude,\n",
        "'Latitude': Latitude}\n"
      ],
      "execution_count": 22,
      "outputs": []
    },
    {
      "cell_type": "markdown",
      "metadata": {
        "id": "5sZ9lHV-g9hS"
      },
      "source": [
        "Then, we need to create a Pandas data frame from the dictionary launch_dict.\n"
      ]
    },
    {
      "cell_type": "code",
      "metadata": {
        "id": "gK1t-Ptag9hT"
      },
      "source": [
        "# Create a data from launch_dict\n",
        "data = pd.DataFrame(launch_dict)"
      ],
      "execution_count": 23,
      "outputs": []
    },
    {
      "cell_type": "markdown",
      "metadata": {
        "id": "l6sJTzUng9hT"
      },
      "source": [
        "Show the summary of the dataframe\n"
      ]
    },
    {
      "cell_type": "code",
      "metadata": {
        "scrolled": false,
        "colab": {
          "base_uri": "https://localhost:8080/",
          "height": 313
        },
        "id": "FYjRZweng9hT",
        "outputId": "48a01e8b-3e8b-4e93-99c6-439eca0b52cc"
      },
      "source": [
        "# Show the head of the dataframe\n",
        "data.head()"
      ],
      "execution_count": 24,
      "outputs": [
        {
          "output_type": "execute_result",
          "data": {
            "text/html": [
              "<div>\n",
              "<style scoped>\n",
              "    .dataframe tbody tr th:only-of-type {\n",
              "        vertical-align: middle;\n",
              "    }\n",
              "\n",
              "    .dataframe tbody tr th {\n",
              "        vertical-align: top;\n",
              "    }\n",
              "\n",
              "    .dataframe thead th {\n",
              "        text-align: right;\n",
              "    }\n",
              "</style>\n",
              "<table border=\"1\" class=\"dataframe\">\n",
              "  <thead>\n",
              "    <tr style=\"text-align: right;\">\n",
              "      <th></th>\n",
              "      <th>FlightNumber</th>\n",
              "      <th>Date</th>\n",
              "      <th>BoosterVersion</th>\n",
              "      <th>PayloadMass</th>\n",
              "      <th>Orbit</th>\n",
              "      <th>LaunchSite</th>\n",
              "      <th>Outcome</th>\n",
              "      <th>Flights</th>\n",
              "      <th>GridFins</th>\n",
              "      <th>Reused</th>\n",
              "      <th>Legs</th>\n",
              "      <th>LandingPad</th>\n",
              "      <th>Block</th>\n",
              "      <th>ReusedCount</th>\n",
              "      <th>Serial</th>\n",
              "      <th>Longitude</th>\n",
              "      <th>Latitude</th>\n",
              "    </tr>\n",
              "  </thead>\n",
              "  <tbody>\n",
              "    <tr>\n",
              "      <th>0</th>\n",
              "      <td>1</td>\n",
              "      <td>2006-03-24</td>\n",
              "      <td>Falcon 1</td>\n",
              "      <td>20.0</td>\n",
              "      <td>LEO</td>\n",
              "      <td>Kwajalein Atoll</td>\n",
              "      <td>None None</td>\n",
              "      <td>1</td>\n",
              "      <td>False</td>\n",
              "      <td>False</td>\n",
              "      <td>False</td>\n",
              "      <td>None</td>\n",
              "      <td>NaN</td>\n",
              "      <td>0</td>\n",
              "      <td>Merlin1A</td>\n",
              "      <td>167.743129</td>\n",
              "      <td>9.047721</td>\n",
              "    </tr>\n",
              "    <tr>\n",
              "      <th>1</th>\n",
              "      <td>2</td>\n",
              "      <td>2007-03-21</td>\n",
              "      <td>Falcon 1</td>\n",
              "      <td>NaN</td>\n",
              "      <td>LEO</td>\n",
              "      <td>Kwajalein Atoll</td>\n",
              "      <td>None None</td>\n",
              "      <td>1</td>\n",
              "      <td>False</td>\n",
              "      <td>False</td>\n",
              "      <td>False</td>\n",
              "      <td>None</td>\n",
              "      <td>NaN</td>\n",
              "      <td>0</td>\n",
              "      <td>Merlin2A</td>\n",
              "      <td>167.743129</td>\n",
              "      <td>9.047721</td>\n",
              "    </tr>\n",
              "    <tr>\n",
              "      <th>2</th>\n",
              "      <td>4</td>\n",
              "      <td>2008-09-28</td>\n",
              "      <td>Falcon 1</td>\n",
              "      <td>165.0</td>\n",
              "      <td>LEO</td>\n",
              "      <td>Kwajalein Atoll</td>\n",
              "      <td>None None</td>\n",
              "      <td>1</td>\n",
              "      <td>False</td>\n",
              "      <td>False</td>\n",
              "      <td>False</td>\n",
              "      <td>None</td>\n",
              "      <td>NaN</td>\n",
              "      <td>0</td>\n",
              "      <td>Merlin2C</td>\n",
              "      <td>167.743129</td>\n",
              "      <td>9.047721</td>\n",
              "    </tr>\n",
              "    <tr>\n",
              "      <th>3</th>\n",
              "      <td>5</td>\n",
              "      <td>2009-07-13</td>\n",
              "      <td>Falcon 1</td>\n",
              "      <td>200.0</td>\n",
              "      <td>LEO</td>\n",
              "      <td>Kwajalein Atoll</td>\n",
              "      <td>None None</td>\n",
              "      <td>1</td>\n",
              "      <td>False</td>\n",
              "      <td>False</td>\n",
              "      <td>False</td>\n",
              "      <td>None</td>\n",
              "      <td>NaN</td>\n",
              "      <td>0</td>\n",
              "      <td>Merlin3C</td>\n",
              "      <td>167.743129</td>\n",
              "      <td>9.047721</td>\n",
              "    </tr>\n",
              "    <tr>\n",
              "      <th>4</th>\n",
              "      <td>6</td>\n",
              "      <td>2010-06-04</td>\n",
              "      <td>Falcon 9</td>\n",
              "      <td>NaN</td>\n",
              "      <td>LEO</td>\n",
              "      <td>CCSFS SLC 40</td>\n",
              "      <td>None None</td>\n",
              "      <td>1</td>\n",
              "      <td>False</td>\n",
              "      <td>False</td>\n",
              "      <td>False</td>\n",
              "      <td>None</td>\n",
              "      <td>1.0</td>\n",
              "      <td>0</td>\n",
              "      <td>B0003</td>\n",
              "      <td>-80.577366</td>\n",
              "      <td>28.561857</td>\n",
              "    </tr>\n",
              "  </tbody>\n",
              "</table>\n",
              "</div>"
            ],
            "text/plain": [
              "   FlightNumber        Date BoosterVersion  PayloadMass Orbit  \\\n",
              "0             1  2006-03-24       Falcon 1         20.0   LEO   \n",
              "1             2  2007-03-21       Falcon 1          NaN   LEO   \n",
              "2             4  2008-09-28       Falcon 1        165.0   LEO   \n",
              "3             5  2009-07-13       Falcon 1        200.0   LEO   \n",
              "4             6  2010-06-04       Falcon 9          NaN   LEO   \n",
              "\n",
              "        LaunchSite    Outcome  Flights  GridFins  Reused   Legs LandingPad  \\\n",
              "0  Kwajalein Atoll  None None        1     False   False  False       None   \n",
              "1  Kwajalein Atoll  None None        1     False   False  False       None   \n",
              "2  Kwajalein Atoll  None None        1     False   False  False       None   \n",
              "3  Kwajalein Atoll  None None        1     False   False  False       None   \n",
              "4     CCSFS SLC 40  None None        1     False   False  False       None   \n",
              "\n",
              "   Block  ReusedCount    Serial   Longitude   Latitude  \n",
              "0    NaN            0  Merlin1A  167.743129   9.047721  \n",
              "1    NaN            0  Merlin2A  167.743129   9.047721  \n",
              "2    NaN            0  Merlin2C  167.743129   9.047721  \n",
              "3    NaN            0  Merlin3C  167.743129   9.047721  \n",
              "4    1.0            0     B0003  -80.577366  28.561857  "
            ]
          },
          "metadata": {},
          "execution_count": 24
        }
      ]
    },
    {
      "cell_type": "markdown",
      "metadata": {
        "id": "fsX51Q2ig9hT"
      },
      "source": [
        "### Task 2: Filter the dataframe to only include `Falcon 9` launches\n"
      ]
    },
    {
      "cell_type": "markdown",
      "metadata": {
        "id": "kLJ_7VgHg9hU"
      },
      "source": [
        "Finally we will remove the Falcon 1 launches keeping only the Falcon 9 launches. Filter the data dataframe using the <code>BoosterVersion</code> column to only keep the Falcon 9 launches. Save the filtered data to a new dataframe called <code>data_falcon9</code>.\n"
      ]
    },
    {
      "cell_type": "code",
      "metadata": {
        "id": "cQCk-JXwg9hU"
      },
      "source": [
        "# Hint data['BoosterVersion']!='Falcon 1'\n",
        "data_falcon9 = data.loc[data['BoosterVersion'] != 'Falcon 1']"
      ],
      "execution_count": 25,
      "outputs": []
    },
    {
      "cell_type": "code",
      "metadata": {
        "scrolled": true,
        "colab": {
          "base_uri": "https://localhost:8080/",
          "height": 313
        },
        "id": "_UAiqXEig9hU",
        "outputId": "e7f2ba44-0c36-4091-bf86-0b290326a462"
      },
      "source": [
        "data_falcon9.head()"
      ],
      "execution_count": 26,
      "outputs": [
        {
          "output_type": "execute_result",
          "data": {
            "text/html": [
              "<div>\n",
              "<style scoped>\n",
              "    .dataframe tbody tr th:only-of-type {\n",
              "        vertical-align: middle;\n",
              "    }\n",
              "\n",
              "    .dataframe tbody tr th {\n",
              "        vertical-align: top;\n",
              "    }\n",
              "\n",
              "    .dataframe thead th {\n",
              "        text-align: right;\n",
              "    }\n",
              "</style>\n",
              "<table border=\"1\" class=\"dataframe\">\n",
              "  <thead>\n",
              "    <tr style=\"text-align: right;\">\n",
              "      <th></th>\n",
              "      <th>FlightNumber</th>\n",
              "      <th>Date</th>\n",
              "      <th>BoosterVersion</th>\n",
              "      <th>PayloadMass</th>\n",
              "      <th>Orbit</th>\n",
              "      <th>LaunchSite</th>\n",
              "      <th>Outcome</th>\n",
              "      <th>Flights</th>\n",
              "      <th>GridFins</th>\n",
              "      <th>Reused</th>\n",
              "      <th>Legs</th>\n",
              "      <th>LandingPad</th>\n",
              "      <th>Block</th>\n",
              "      <th>ReusedCount</th>\n",
              "      <th>Serial</th>\n",
              "      <th>Longitude</th>\n",
              "      <th>Latitude</th>\n",
              "    </tr>\n",
              "  </thead>\n",
              "  <tbody>\n",
              "    <tr>\n",
              "      <th>4</th>\n",
              "      <td>6</td>\n",
              "      <td>2010-06-04</td>\n",
              "      <td>Falcon 9</td>\n",
              "      <td>NaN</td>\n",
              "      <td>LEO</td>\n",
              "      <td>CCSFS SLC 40</td>\n",
              "      <td>None None</td>\n",
              "      <td>1</td>\n",
              "      <td>False</td>\n",
              "      <td>False</td>\n",
              "      <td>False</td>\n",
              "      <td>None</td>\n",
              "      <td>1.0</td>\n",
              "      <td>0</td>\n",
              "      <td>B0003</td>\n",
              "      <td>-80.577366</td>\n",
              "      <td>28.561857</td>\n",
              "    </tr>\n",
              "    <tr>\n",
              "      <th>5</th>\n",
              "      <td>8</td>\n",
              "      <td>2012-05-22</td>\n",
              "      <td>Falcon 9</td>\n",
              "      <td>525.0</td>\n",
              "      <td>LEO</td>\n",
              "      <td>CCSFS SLC 40</td>\n",
              "      <td>None None</td>\n",
              "      <td>1</td>\n",
              "      <td>False</td>\n",
              "      <td>False</td>\n",
              "      <td>False</td>\n",
              "      <td>None</td>\n",
              "      <td>1.0</td>\n",
              "      <td>0</td>\n",
              "      <td>B0005</td>\n",
              "      <td>-80.577366</td>\n",
              "      <td>28.561857</td>\n",
              "    </tr>\n",
              "    <tr>\n",
              "      <th>6</th>\n",
              "      <td>10</td>\n",
              "      <td>2013-03-01</td>\n",
              "      <td>Falcon 9</td>\n",
              "      <td>677.0</td>\n",
              "      <td>ISS</td>\n",
              "      <td>CCSFS SLC 40</td>\n",
              "      <td>None None</td>\n",
              "      <td>1</td>\n",
              "      <td>False</td>\n",
              "      <td>False</td>\n",
              "      <td>False</td>\n",
              "      <td>None</td>\n",
              "      <td>1.0</td>\n",
              "      <td>0</td>\n",
              "      <td>B0007</td>\n",
              "      <td>-80.577366</td>\n",
              "      <td>28.561857</td>\n",
              "    </tr>\n",
              "    <tr>\n",
              "      <th>7</th>\n",
              "      <td>11</td>\n",
              "      <td>2013-09-29</td>\n",
              "      <td>Falcon 9</td>\n",
              "      <td>500.0</td>\n",
              "      <td>PO</td>\n",
              "      <td>VAFB SLC 4E</td>\n",
              "      <td>False Ocean</td>\n",
              "      <td>1</td>\n",
              "      <td>False</td>\n",
              "      <td>False</td>\n",
              "      <td>False</td>\n",
              "      <td>None</td>\n",
              "      <td>1.0</td>\n",
              "      <td>0</td>\n",
              "      <td>B1003</td>\n",
              "      <td>-120.610829</td>\n",
              "      <td>34.632093</td>\n",
              "    </tr>\n",
              "    <tr>\n",
              "      <th>8</th>\n",
              "      <td>12</td>\n",
              "      <td>2013-12-03</td>\n",
              "      <td>Falcon 9</td>\n",
              "      <td>3170.0</td>\n",
              "      <td>GTO</td>\n",
              "      <td>CCSFS SLC 40</td>\n",
              "      <td>None None</td>\n",
              "      <td>1</td>\n",
              "      <td>False</td>\n",
              "      <td>False</td>\n",
              "      <td>False</td>\n",
              "      <td>None</td>\n",
              "      <td>1.0</td>\n",
              "      <td>0</td>\n",
              "      <td>B1004</td>\n",
              "      <td>-80.577366</td>\n",
              "      <td>28.561857</td>\n",
              "    </tr>\n",
              "  </tbody>\n",
              "</table>\n",
              "</div>"
            ],
            "text/plain": [
              "   FlightNumber        Date BoosterVersion  PayloadMass Orbit    LaunchSite  \\\n",
              "4             6  2010-06-04       Falcon 9          NaN   LEO  CCSFS SLC 40   \n",
              "5             8  2012-05-22       Falcon 9        525.0   LEO  CCSFS SLC 40   \n",
              "6            10  2013-03-01       Falcon 9        677.0   ISS  CCSFS SLC 40   \n",
              "7            11  2013-09-29       Falcon 9        500.0    PO   VAFB SLC 4E   \n",
              "8            12  2013-12-03       Falcon 9       3170.0   GTO  CCSFS SLC 40   \n",
              "\n",
              "       Outcome  Flights  GridFins  Reused   Legs LandingPad  Block  \\\n",
              "4    None None        1     False   False  False       None    1.0   \n",
              "5    None None        1     False   False  False       None    1.0   \n",
              "6    None None        1     False   False  False       None    1.0   \n",
              "7  False Ocean        1     False   False  False       None    1.0   \n",
              "8    None None        1     False   False  False       None    1.0   \n",
              "\n",
              "   ReusedCount Serial   Longitude   Latitude  \n",
              "4            0  B0003  -80.577366  28.561857  \n",
              "5            0  B0005  -80.577366  28.561857  \n",
              "6            0  B0007  -80.577366  28.561857  \n",
              "7            0  B1003 -120.610829  34.632093  \n",
              "8            0  B1004  -80.577366  28.561857  "
            ]
          },
          "metadata": {},
          "execution_count": 26
        }
      ]
    },
    {
      "cell_type": "markdown",
      "metadata": {
        "id": "_q4PRw62g9hV"
      },
      "source": [
        "Now that we have removed some values we should reset the FlgihtNumber column\n"
      ]
    },
    {
      "cell_type": "code",
      "metadata": {
        "colab": {
          "base_uri": "https://localhost:8080/",
          "height": 721
        },
        "id": "xECmDPzug9hV",
        "outputId": "ea1e9522-93a0-4cb7-c10d-9c4d0505c57d"
      },
      "source": [
        "data_falcon9.loc[:,'FlightNumber'] = list(range(1, data_falcon9.shape[0]+1))\n",
        "data_falcon9"
      ],
      "execution_count": 27,
      "outputs": [
        {
          "output_type": "stream",
          "name": "stderr",
          "text": [
            "/usr/local/lib/python3.7/dist-packages/pandas/core/indexing.py:1743: SettingWithCopyWarning: \n",
            "A value is trying to be set on a copy of a slice from a DataFrame.\n",
            "Try using .loc[row_indexer,col_indexer] = value instead\n",
            "\n",
            "See the caveats in the documentation: https://pandas.pydata.org/pandas-docs/stable/user_guide/indexing.html#returning-a-view-versus-a-copy\n",
            "  isetter(ilocs[0], value)\n"
          ]
        },
        {
          "output_type": "execute_result",
          "data": {
            "text/html": [
              "<div>\n",
              "<style scoped>\n",
              "    .dataframe tbody tr th:only-of-type {\n",
              "        vertical-align: middle;\n",
              "    }\n",
              "\n",
              "    .dataframe tbody tr th {\n",
              "        vertical-align: top;\n",
              "    }\n",
              "\n",
              "    .dataframe thead th {\n",
              "        text-align: right;\n",
              "    }\n",
              "</style>\n",
              "<table border=\"1\" class=\"dataframe\">\n",
              "  <thead>\n",
              "    <tr style=\"text-align: right;\">\n",
              "      <th></th>\n",
              "      <th>FlightNumber</th>\n",
              "      <th>Date</th>\n",
              "      <th>BoosterVersion</th>\n",
              "      <th>PayloadMass</th>\n",
              "      <th>Orbit</th>\n",
              "      <th>LaunchSite</th>\n",
              "      <th>Outcome</th>\n",
              "      <th>Flights</th>\n",
              "      <th>GridFins</th>\n",
              "      <th>Reused</th>\n",
              "      <th>Legs</th>\n",
              "      <th>LandingPad</th>\n",
              "      <th>Block</th>\n",
              "      <th>ReusedCount</th>\n",
              "      <th>Serial</th>\n",
              "      <th>Longitude</th>\n",
              "      <th>Latitude</th>\n",
              "    </tr>\n",
              "  </thead>\n",
              "  <tbody>\n",
              "    <tr>\n",
              "      <th>4</th>\n",
              "      <td>1</td>\n",
              "      <td>2010-06-04</td>\n",
              "      <td>Falcon 9</td>\n",
              "      <td>NaN</td>\n",
              "      <td>LEO</td>\n",
              "      <td>CCSFS SLC 40</td>\n",
              "      <td>None None</td>\n",
              "      <td>1</td>\n",
              "      <td>False</td>\n",
              "      <td>False</td>\n",
              "      <td>False</td>\n",
              "      <td>None</td>\n",
              "      <td>1.0</td>\n",
              "      <td>0</td>\n",
              "      <td>B0003</td>\n",
              "      <td>-80.577366</td>\n",
              "      <td>28.561857</td>\n",
              "    </tr>\n",
              "    <tr>\n",
              "      <th>5</th>\n",
              "      <td>2</td>\n",
              "      <td>2012-05-22</td>\n",
              "      <td>Falcon 9</td>\n",
              "      <td>525.0</td>\n",
              "      <td>LEO</td>\n",
              "      <td>CCSFS SLC 40</td>\n",
              "      <td>None None</td>\n",
              "      <td>1</td>\n",
              "      <td>False</td>\n",
              "      <td>False</td>\n",
              "      <td>False</td>\n",
              "      <td>None</td>\n",
              "      <td>1.0</td>\n",
              "      <td>0</td>\n",
              "      <td>B0005</td>\n",
              "      <td>-80.577366</td>\n",
              "      <td>28.561857</td>\n",
              "    </tr>\n",
              "    <tr>\n",
              "      <th>6</th>\n",
              "      <td>3</td>\n",
              "      <td>2013-03-01</td>\n",
              "      <td>Falcon 9</td>\n",
              "      <td>677.0</td>\n",
              "      <td>ISS</td>\n",
              "      <td>CCSFS SLC 40</td>\n",
              "      <td>None None</td>\n",
              "      <td>1</td>\n",
              "      <td>False</td>\n",
              "      <td>False</td>\n",
              "      <td>False</td>\n",
              "      <td>None</td>\n",
              "      <td>1.0</td>\n",
              "      <td>0</td>\n",
              "      <td>B0007</td>\n",
              "      <td>-80.577366</td>\n",
              "      <td>28.561857</td>\n",
              "    </tr>\n",
              "    <tr>\n",
              "      <th>7</th>\n",
              "      <td>4</td>\n",
              "      <td>2013-09-29</td>\n",
              "      <td>Falcon 9</td>\n",
              "      <td>500.0</td>\n",
              "      <td>PO</td>\n",
              "      <td>VAFB SLC 4E</td>\n",
              "      <td>False Ocean</td>\n",
              "      <td>1</td>\n",
              "      <td>False</td>\n",
              "      <td>False</td>\n",
              "      <td>False</td>\n",
              "      <td>None</td>\n",
              "      <td>1.0</td>\n",
              "      <td>0</td>\n",
              "      <td>B1003</td>\n",
              "      <td>-120.610829</td>\n",
              "      <td>34.632093</td>\n",
              "    </tr>\n",
              "    <tr>\n",
              "      <th>8</th>\n",
              "      <td>5</td>\n",
              "      <td>2013-12-03</td>\n",
              "      <td>Falcon 9</td>\n",
              "      <td>3170.0</td>\n",
              "      <td>GTO</td>\n",
              "      <td>CCSFS SLC 40</td>\n",
              "      <td>None None</td>\n",
              "      <td>1</td>\n",
              "      <td>False</td>\n",
              "      <td>False</td>\n",
              "      <td>False</td>\n",
              "      <td>None</td>\n",
              "      <td>1.0</td>\n",
              "      <td>0</td>\n",
              "      <td>B1004</td>\n",
              "      <td>-80.577366</td>\n",
              "      <td>28.561857</td>\n",
              "    </tr>\n",
              "    <tr>\n",
              "      <th>...</th>\n",
              "      <td>...</td>\n",
              "      <td>...</td>\n",
              "      <td>...</td>\n",
              "      <td>...</td>\n",
              "      <td>...</td>\n",
              "      <td>...</td>\n",
              "      <td>...</td>\n",
              "      <td>...</td>\n",
              "      <td>...</td>\n",
              "      <td>...</td>\n",
              "      <td>...</td>\n",
              "      <td>...</td>\n",
              "      <td>...</td>\n",
              "      <td>...</td>\n",
              "      <td>...</td>\n",
              "      <td>...</td>\n",
              "      <td>...</td>\n",
              "    </tr>\n",
              "    <tr>\n",
              "      <th>89</th>\n",
              "      <td>86</td>\n",
              "      <td>2020-09-03</td>\n",
              "      <td>Falcon 9</td>\n",
              "      <td>15600.0</td>\n",
              "      <td>VLEO</td>\n",
              "      <td>KSC LC 39A</td>\n",
              "      <td>True ASDS</td>\n",
              "      <td>2</td>\n",
              "      <td>True</td>\n",
              "      <td>True</td>\n",
              "      <td>True</td>\n",
              "      <td>5e9e3032383ecb6bb234e7ca</td>\n",
              "      <td>5.0</td>\n",
              "      <td>7</td>\n",
              "      <td>B1060</td>\n",
              "      <td>-80.603956</td>\n",
              "      <td>28.608058</td>\n",
              "    </tr>\n",
              "    <tr>\n",
              "      <th>90</th>\n",
              "      <td>87</td>\n",
              "      <td>2020-10-06</td>\n",
              "      <td>Falcon 9</td>\n",
              "      <td>15600.0</td>\n",
              "      <td>VLEO</td>\n",
              "      <td>KSC LC 39A</td>\n",
              "      <td>True ASDS</td>\n",
              "      <td>3</td>\n",
              "      <td>True</td>\n",
              "      <td>True</td>\n",
              "      <td>True</td>\n",
              "      <td>5e9e3032383ecb6bb234e7ca</td>\n",
              "      <td>5.0</td>\n",
              "      <td>7</td>\n",
              "      <td>B1058</td>\n",
              "      <td>-80.603956</td>\n",
              "      <td>28.608058</td>\n",
              "    </tr>\n",
              "    <tr>\n",
              "      <th>91</th>\n",
              "      <td>88</td>\n",
              "      <td>2020-10-18</td>\n",
              "      <td>Falcon 9</td>\n",
              "      <td>15600.0</td>\n",
              "      <td>VLEO</td>\n",
              "      <td>KSC LC 39A</td>\n",
              "      <td>True ASDS</td>\n",
              "      <td>6</td>\n",
              "      <td>True</td>\n",
              "      <td>True</td>\n",
              "      <td>True</td>\n",
              "      <td>5e9e3032383ecb6bb234e7ca</td>\n",
              "      <td>5.0</td>\n",
              "      <td>9</td>\n",
              "      <td>B1051</td>\n",
              "      <td>-80.603956</td>\n",
              "      <td>28.608058</td>\n",
              "    </tr>\n",
              "    <tr>\n",
              "      <th>92</th>\n",
              "      <td>89</td>\n",
              "      <td>2020-10-24</td>\n",
              "      <td>Falcon 9</td>\n",
              "      <td>15600.0</td>\n",
              "      <td>VLEO</td>\n",
              "      <td>CCSFS SLC 40</td>\n",
              "      <td>True ASDS</td>\n",
              "      <td>3</td>\n",
              "      <td>True</td>\n",
              "      <td>True</td>\n",
              "      <td>True</td>\n",
              "      <td>5e9e3033383ecbb9e534e7cc</td>\n",
              "      <td>5.0</td>\n",
              "      <td>7</td>\n",
              "      <td>B1060</td>\n",
              "      <td>-80.577366</td>\n",
              "      <td>28.561857</td>\n",
              "    </tr>\n",
              "    <tr>\n",
              "      <th>93</th>\n",
              "      <td>90</td>\n",
              "      <td>2020-11-05</td>\n",
              "      <td>Falcon 9</td>\n",
              "      <td>3681.0</td>\n",
              "      <td>MEO</td>\n",
              "      <td>CCSFS SLC 40</td>\n",
              "      <td>True ASDS</td>\n",
              "      <td>1</td>\n",
              "      <td>True</td>\n",
              "      <td>False</td>\n",
              "      <td>True</td>\n",
              "      <td>5e9e3032383ecb6bb234e7ca</td>\n",
              "      <td>5.0</td>\n",
              "      <td>3</td>\n",
              "      <td>B1062</td>\n",
              "      <td>-80.577366</td>\n",
              "      <td>28.561857</td>\n",
              "    </tr>\n",
              "  </tbody>\n",
              "</table>\n",
              "<p>90 rows × 17 columns</p>\n",
              "</div>"
            ],
            "text/plain": [
              "    FlightNumber        Date BoosterVersion  PayloadMass Orbit    LaunchSite  \\\n",
              "4              1  2010-06-04       Falcon 9          NaN   LEO  CCSFS SLC 40   \n",
              "5              2  2012-05-22       Falcon 9        525.0   LEO  CCSFS SLC 40   \n",
              "6              3  2013-03-01       Falcon 9        677.0   ISS  CCSFS SLC 40   \n",
              "7              4  2013-09-29       Falcon 9        500.0    PO   VAFB SLC 4E   \n",
              "8              5  2013-12-03       Falcon 9       3170.0   GTO  CCSFS SLC 40   \n",
              "..           ...         ...            ...          ...   ...           ...   \n",
              "89            86  2020-09-03       Falcon 9      15600.0  VLEO    KSC LC 39A   \n",
              "90            87  2020-10-06       Falcon 9      15600.0  VLEO    KSC LC 39A   \n",
              "91            88  2020-10-18       Falcon 9      15600.0  VLEO    KSC LC 39A   \n",
              "92            89  2020-10-24       Falcon 9      15600.0  VLEO  CCSFS SLC 40   \n",
              "93            90  2020-11-05       Falcon 9       3681.0   MEO  CCSFS SLC 40   \n",
              "\n",
              "        Outcome  Flights  GridFins  Reused   Legs                LandingPad  \\\n",
              "4     None None        1     False   False  False                      None   \n",
              "5     None None        1     False   False  False                      None   \n",
              "6     None None        1     False   False  False                      None   \n",
              "7   False Ocean        1     False   False  False                      None   \n",
              "8     None None        1     False   False  False                      None   \n",
              "..          ...      ...       ...     ...    ...                       ...   \n",
              "89    True ASDS        2      True    True   True  5e9e3032383ecb6bb234e7ca   \n",
              "90    True ASDS        3      True    True   True  5e9e3032383ecb6bb234e7ca   \n",
              "91    True ASDS        6      True    True   True  5e9e3032383ecb6bb234e7ca   \n",
              "92    True ASDS        3      True    True   True  5e9e3033383ecbb9e534e7cc   \n",
              "93    True ASDS        1      True   False   True  5e9e3032383ecb6bb234e7ca   \n",
              "\n",
              "    Block  ReusedCount Serial   Longitude   Latitude  \n",
              "4     1.0            0  B0003  -80.577366  28.561857  \n",
              "5     1.0            0  B0005  -80.577366  28.561857  \n",
              "6     1.0            0  B0007  -80.577366  28.561857  \n",
              "7     1.0            0  B1003 -120.610829  34.632093  \n",
              "8     1.0            0  B1004  -80.577366  28.561857  \n",
              "..    ...          ...    ...         ...        ...  \n",
              "89    5.0            7  B1060  -80.603956  28.608058  \n",
              "90    5.0            7  B1058  -80.603956  28.608058  \n",
              "91    5.0            9  B1051  -80.603956  28.608058  \n",
              "92    5.0            7  B1060  -80.577366  28.561857  \n",
              "93    5.0            3  B1062  -80.577366  28.561857  \n",
              "\n",
              "[90 rows x 17 columns]"
            ]
          },
          "metadata": {},
          "execution_count": 27
        }
      ]
    },
    {
      "cell_type": "markdown",
      "metadata": {
        "id": "IyLWi23pg9hV"
      },
      "source": [
        "## Data Wrangling\n"
      ]
    },
    {
      "cell_type": "markdown",
      "metadata": {
        "id": "O3c2-oaPg9hW"
      },
      "source": [
        "We can see below that some of the rows are missing values in our dataset.\n"
      ]
    },
    {
      "cell_type": "code",
      "metadata": {
        "colab": {
          "base_uri": "https://localhost:8080/"
        },
        "id": "LKhu8YYzg9hW",
        "outputId": "ca7bec67-e763-4949-af67-dc5605d89695"
      },
      "source": [
        "data_falcon9.isnull().sum()"
      ],
      "execution_count": 28,
      "outputs": [
        {
          "output_type": "execute_result",
          "data": {
            "text/plain": [
              "FlightNumber       0\n",
              "Date               0\n",
              "BoosterVersion     0\n",
              "PayloadMass        5\n",
              "Orbit              0\n",
              "LaunchSite         0\n",
              "Outcome            0\n",
              "Flights            0\n",
              "GridFins           0\n",
              "Reused             0\n",
              "Legs               0\n",
              "LandingPad        26\n",
              "Block              0\n",
              "ReusedCount        0\n",
              "Serial             0\n",
              "Longitude          0\n",
              "Latitude           0\n",
              "dtype: int64"
            ]
          },
          "metadata": {},
          "execution_count": 28
        }
      ]
    },
    {
      "cell_type": "markdown",
      "metadata": {
        "id": "iGVku6ZZg9hW"
      },
      "source": [
        "Before we can continue we must deal with these missing values. The <code>LandingPad</code> column will retain None values to represent when landing pads were not used.\n"
      ]
    },
    {
      "cell_type": "markdown",
      "metadata": {
        "id": "pycTerPUg9hX"
      },
      "source": [
        "### Task 3: Dealing with Missing Values\n"
      ]
    },
    {
      "cell_type": "markdown",
      "metadata": {
        "id": "syhDt92Ag9hX"
      },
      "source": [
        "Calculate below the mean for the <code>PayloadMass</code> using the <code>.mean()</code>. Then use the mean and the <code>.replace()</code> function to replace `np.nan` values in the data with the mean you calculated.\n"
      ]
    },
    {
      "cell_type": "code",
      "metadata": {
        "scrolled": true,
        "colab": {
          "base_uri": "https://localhost:8080/"
        },
        "id": "bwMtg1KEg9hX",
        "outputId": "67b66fb9-2225-415d-e7ba-883eaab18c44"
      },
      "source": [
        "# Calculate the mean value of PayloadMass column\n",
        "data_falcon9['PayloadMass'].mean()\n",
        "# Replace the np.nan values with its mean value\n",
        "data_falcon9['PayloadMass'].replace(to_replace=np.nan, value=data_falcon9['PayloadMass'].mean(), inplace=True)"
      ],
      "execution_count": 29,
      "outputs": [
        {
          "output_type": "stream",
          "name": "stderr",
          "text": [
            "/usr/local/lib/python3.7/dist-packages/pandas/core/series.py:4582: SettingWithCopyWarning: \n",
            "A value is trying to be set on a copy of a slice from a DataFrame\n",
            "\n",
            "See the caveats in the documentation: https://pandas.pydata.org/pandas-docs/stable/user_guide/indexing.html#returning-a-view-versus-a-copy\n",
            "  method=method,\n"
          ]
        }
      ]
    },
    {
      "cell_type": "markdown",
      "metadata": {
        "id": "8fxwdme3g9hX"
      },
      "source": [
        "You should see the number of missing values of the <code>PayLoadMass</code> change to zero.\n"
      ]
    },
    {
      "cell_type": "markdown",
      "metadata": {
        "id": "wtkkrgblg9hY"
      },
      "source": [
        "Now we should have no missing values in our dataset except for in <code>LandingPad</code>.\n"
      ]
    },
    {
      "cell_type": "markdown",
      "metadata": {
        "id": "IVVowdfKg9hY"
      },
      "source": [
        "We can now export it to a <b>CSV</b> for the next section,but to make the answers consistent, in the next lab we will provide data in a pre-selected date range.\n"
      ]
    },
    {
      "cell_type": "code",
      "metadata": {
        "id": "ipb0g1lUg9hZ"
      },
      "source": [
        "data_falcon9.to_csv('dataset_part_1.csv', index=False)"
      ],
      "execution_count": 30,
      "outputs": []
    },
    {
      "cell_type": "markdown",
      "metadata": {
        "id": "-1dA-j2cg9hZ"
      },
      "source": [
        "<code>data_falcon9.to_csv('dataset_part\\_1.csv', index=False)</code>"
      ]
    },
    {
      "cell_type": "markdown",
      "metadata": {
        "id": "kp4u9Tkfg9hZ"
      },
      "source": [
        "## Authors\n"
      ]
    },
    {
      "cell_type": "markdown",
      "metadata": {
        "id": "pNTYiUReg9hZ"
      },
      "source": [
        "<a href=\"https://www.linkedin.com/in/joseph-s-50398b136/?utm_medium=Exinfluencer&utm_source=Exinfluencer&utm_content=000026UJ&utm_term=10006555&utm_id=NA-SkillsNetwork-Channel-SkillsNetworkCoursesIBMDS0321ENSkillsNetwork26802033-2021-01-01\">Joseph Santarcangelo</a> has a PhD in Electrical Engineering, his research focused on using machine learning, signal processing, and computer vision to determine how videos impact human cognition. Joseph has been working for IBM since he completed his PhD.\n"
      ]
    },
    {
      "cell_type": "markdown",
      "metadata": {
        "id": "SP6kNWz4g9hZ"
      },
      "source": [
        "## Change Log\n"
      ]
    },
    {
      "cell_type": "markdown",
      "metadata": {
        "id": "7zMTxPUug9ha"
      },
      "source": [
        "| Date (YYYY-MM-DD) | Version | Changed By | Change Description                  |\n",
        "| ----------------- | ------- | ---------- | ----------------------------------- |\n",
        "| 2020-09-20        | 1.1     | Joseph     | get result each time you run        |\n",
        "| 2020-09-20        | 1.1     | Azim       | Created Part 1 Lab using SpaceX API |\n",
        "| 2020-09-20        | 1.0     | Joseph     | Modified Multiple Areas             |\n"
      ]
    },
    {
      "cell_type": "markdown",
      "metadata": {
        "id": "U5CEwIJ1g9ha"
      },
      "source": [
        "Copyright © 2021 IBM Corporation. All rights reserved.\n"
      ]
    }
  ]
}